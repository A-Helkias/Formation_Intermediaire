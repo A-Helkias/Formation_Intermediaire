{
 "cells": [
  {
   "cell_type": "markdown",
   "id": "068ce9b2",
   "metadata": {
    "toc": true
   },
   "source": [
    "<h1>Table of Contents<span class=\"tocSkip\"></span></h1>\n",
    "<div class=\"toc\"><ul class=\"toc-item\"><li><span><a href=\"#Importation-des-librairies-utiles\" data-toc-modified-id=\"Importation-des-librairies-utiles-1\"><span class=\"toc-item-num\">1&nbsp;&nbsp;</span>Importation des librairies utiles</a></span></li><li><span><a href=\"#Obtention-des-données\" data-toc-modified-id=\"Obtention-des-données-2\"><span class=\"toc-item-num\">2&nbsp;&nbsp;</span>Obtention des données</a></span></li><li><span><a href=\"#Exploration-de-la-Donnée\" data-toc-modified-id=\"Exploration-de-la-Donnée-3\"><span class=\"toc-item-num\">3&nbsp;&nbsp;</span>Exploration de la Donnée</a></span><ul class=\"toc-item\"><li><span><a href=\"#Identifier-les-features-et-le-Label\" data-toc-modified-id=\"Identifier-les-features-et-le-Label-3.1\"><span class=\"toc-item-num\">3.1&nbsp;&nbsp;</span>Identifier les features et le Label</a></span></li><li><span><a href=\"#Etude-des-valeurs-dupliquées\" data-toc-modified-id=\"Etude-des-valeurs-dupliquées-3.2\"><span class=\"toc-item-num\">3.2&nbsp;&nbsp;</span>Etude des valeurs dupliquées</a></span></li><li><span><a href=\"#Etude-basique-de-valeurs-aberrantes\" data-toc-modified-id=\"Etude-basique-de-valeurs-aberrantes-3.3\"><span class=\"toc-item-num\">3.3&nbsp;&nbsp;</span>Etude basique de valeurs aberrantes</a></span></li><li><span><a href=\"#Etude-des-valeurs-manquantes\" data-toc-modified-id=\"Etude-des-valeurs-manquantes-3.4\"><span class=\"toc-item-num\">3.4&nbsp;&nbsp;</span>Etude des valeurs manquantes</a></span></li><li><span><a href=\"#Distribution-des-données\" data-toc-modified-id=\"Distribution-des-données-3.5\"><span class=\"toc-item-num\">3.5&nbsp;&nbsp;</span>Distribution des données</a></span></li><li><span><a href=\"#Matrice-de-correlations\" data-toc-modified-id=\"Matrice-de-correlations-3.6\"><span class=\"toc-item-num\">3.6&nbsp;&nbsp;</span>Matrice de correlations</a></span></li><li><span><a href=\"#Résumé-de-la-partie-exploratoire---transformations-pertinentes?\" data-toc-modified-id=\"Résumé-de-la-partie-exploratoire---transformations-pertinentes?-3.7\"><span class=\"toc-item-num\">3.7&nbsp;&nbsp;</span>Résumé de la partie exploratoire - transformations pertinentes?</a></span></li></ul></li><li><span><a href=\"#Préparation-des-données\" data-toc-modified-id=\"Préparation-des-données-4\"><span class=\"toc-item-num\">4&nbsp;&nbsp;</span>Préparation des données</a></span><ul class=\"toc-item\"><li><span><a href=\"#Gestion-des-données-manquantes\" data-toc-modified-id=\"Gestion-des-données-manquantes-4.1\"><span class=\"toc-item-num\">4.1&nbsp;&nbsp;</span>Gestion des données manquantes</a></span></li><li><span><a href=\"#Correction-ou-suppression-de-valeurs-aberrantes\" data-toc-modified-id=\"Correction-ou-suppression-de-valeurs-aberrantes-4.2\"><span class=\"toc-item-num\">4.2&nbsp;&nbsp;</span>Correction ou suppression de valeurs aberrantes</a></span></li><li><span><a href=\"#Sélection-de-feature\" data-toc-modified-id=\"Sélection-de-feature-4.3\"><span class=\"toc-item-num\">4.3&nbsp;&nbsp;</span>Sélection de feature</a></span></li><li><span><a href=\"#Feature-engineering\" data-toc-modified-id=\"Feature-engineering-4.4\"><span class=\"toc-item-num\">4.4&nbsp;&nbsp;</span>Feature engineering</a></span></li><li><span><a href=\"#Feature-Scaling-and/or-Normalization\" data-toc-modified-id=\"Feature-Scaling-and/or-Normalization-4.5\"><span class=\"toc-item-num\">4.5&nbsp;&nbsp;</span><a href=\"https://colab.research.google.com/github/ml-course/master/blob/master/notebooks/06%20-%20Data%20Preprocessing.ipynb\" rel=\"nofollow\" target=\"_blank\">Feature Scaling and/or Normalization</a></a></span></li><li><span><a href=\"#Encoder-les-variables-catégorielles\" data-toc-modified-id=\"Encoder-les-variables-catégorielles-4.6\"><span class=\"toc-item-num\">4.6&nbsp;&nbsp;</span>Encoder les variables catégorielles</a></span></li><li><span><a href=\"#Créer-un-pipeline\" data-toc-modified-id=\"Créer-un-pipeline-4.7\"><span class=\"toc-item-num\">4.7&nbsp;&nbsp;</span>Créer un pipeline</a></span></li></ul></li></ul></div>"
   ]
  },
  {
   "cell_type": "markdown",
   "id": "4ca157d0",
   "metadata": {},
   "source": [
    "<img src=\"https://miro.medium.com/v2/resize:fit:1400/0*-G8VWk7x24EcOyza\" alt=\"image\" width=\"100%\">"
   ]
  },
  {
   "cell_type": "markdown",
   "id": "af3683bb",
   "metadata": {
    "lang": "en"
   },
   "source": [
    "L'objectif de ce Lab est de préparer les données permettant de prédire les prix de l'immobilier en Californie en 1990.\n",
    "\n",
    "Les données concernent les maisons trouvées dans un district californien donné et quelques statistiques récapitulatives à leur sujet basées sur les données du recensement de 1990. Soyez averti que les données ne sont pas nettoyées, certaines étapes de prétraitement sont donc requises ! Les colonnes sont les suivantes, leurs noms sont assez explicites :\n",
    "\n",
    "longitude\n",
    "\n",
    "latitude\n",
    "\n",
    "logement_âge médian_\n",
    "\n",
    "total_chambres\n",
    "\n",
    "total_chambres\n",
    "\n",
    "population\n",
    "\n",
    "ménages\n",
    "\n",
    "revenu_médian\n",
    "\n",
    "valeur médiane_de la maison\n",
    "\n",
    "océan_proximité\n",
    "\n",
    "Le prétraitement comprend la détection et la gestion des valeurs manquantes, l'enodage des caractéristiques catégorielles et ne se limite pas à ces étapes."
   ]
  },
  {
   "cell_type": "markdown",
   "id": "93b8d1a1",
   "metadata": {},
   "source": [
    "## Importation des librairies utiles"
   ]
  },
  {
   "cell_type": "code",
   "execution_count": 2,
   "id": "3a70d972",
   "metadata": {
    "ExecuteTime": {
     "end_time": "2024-06-18T12:27:09.904802Z",
     "start_time": "2024-06-18T12:27:09.897715Z"
    }
   },
   "outputs": [],
   "source": [
    "import warnings\n",
    "warnings.filterwarnings(\"ignore\")"
   ]
  },
  {
   "cell_type": "code",
   "execution_count": 10,
   "id": "708b8bde",
   "metadata": {
    "ExecuteTime": {
     "end_time": "2024-06-18T12:48:08.692979Z",
     "start_time": "2024-06-18T12:48:08.686334Z"
    }
   },
   "outputs": [],
   "source": [
    "# import des librairies\n",
    "import os, random\n",
    "\n",
    "import numpy as np # manipulation de matrices\n",
    "import pandas as pd # chargement de donnees\n",
    "\n",
    "#visualisation\n",
    "import seaborn as sns \n",
    "import matplotlib.pyplot as plt \n",
    "\n",
    "# visualition de valeurs manquantes\n",
    "import missingno as msno\n",
    "\n",
    "# gestion des valeurs manquantes\n",
    "from sklearn.impute import SimpleImputer\n",
    "\n",
    "# encodage des variables categorielles\n",
    "from sklearn.preprocessing import OneHotEncoder  \n",
    "\n",
    "# mise a l'echelle des variables numeriques\n",
    "from sklearn.preprocessing import StandardScaler  \n",
    "\n",
    "# separation de la donnee en train, validation, et test\n",
    "from sklearn.model_selection import train_test_split\n",
    "\n"
   ]
  },
  {
   "cell_type": "code",
   "execution_count": 11,
   "id": "f54315e5",
   "metadata": {
    "ExecuteTime": {
     "end_time": "2024-06-18T12:48:09.357701Z",
     "start_time": "2024-06-18T12:48:09.349111Z"
    }
   },
   "outputs": [],
   "source": [
    "# ne modifier pas ce bout de code\n",
    "seed = 2024\n",
    "random.seed(seed)\n",
    "np.random.seed(seed)"
   ]
  },
  {
   "cell_type": "markdown",
   "id": "a70159f0",
   "metadata": {},
   "source": [
    "## Obtention des données"
   ]
  },
  {
   "cell_type": "markdown",
   "id": "4925ab68",
   "metadata": {},
   "source": [
    "La donnée nécessaire pour ce Lab se trouve dans le dossier data/housing.csv."
   ]
  },
  {
   "cell_type": "code",
   "execution_count": 8,
   "id": "73f0257b",
   "metadata": {
    "ExecuteTime": {
     "end_time": "2024-06-18T12:40:42.319308Z",
     "start_time": "2024-06-18T12:40:42.311985Z"
    }
   },
   "outputs": [],
   "source": [
    "# charger la donée  \n",
    "housing_df = _"
   ]
  },
  {
   "cell_type": "code",
   "execution_count": null,
   "id": "ed17f3cc",
   "metadata": {},
   "outputs": [],
   "source": [
    "# afficher les 5 premières lignes\n"
   ]
  },
  {
   "cell_type": "code",
   "execution_count": null,
   "id": "4ab9ca3f",
   "metadata": {},
   "outputs": [],
   "source": [
    "# vérifier la taille de la donnée\n"
   ]
  },
  {
   "cell_type": "code",
   "execution_count": null,
   "id": "8fdef425",
   "metadata": {},
   "outputs": [],
   "source": [
    "# vérifier le type de donnée (série temporelle, échantillon, géographique, ...)\n"
   ]
  },
  {
   "cell_type": "markdown",
   "id": "a32f4aab",
   "metadata": {},
   "source": [
    "Le data dredging (également connu sous le nom de data snooping ou p-hacking) est l'utilisation abusive de l'analyse de données pour trouver des modèles dans les données qui peuvent être présentés comme statistiquement significatifs, augmentant ainsi considérablement le risque de faux positifs et le sous-estimant."
   ]
  },
  {
   "cell_type": "code",
   "execution_count": null,
   "id": "33190e66",
   "metadata": {},
   "outputs": [],
   "source": [
    "# mettez un échantillon de 20% de la donnée de côté que vous ne regarderez jamais \n",
    "# en utilisant train_test_split. Utiliser random_state = 67\n",
    "housing_train_df, housing_test_df = _, _\n",
    "\n",
    "# sauvegarder les ensembles crees a l'aide de pd.to_csv dans le dossier data\n",
    "# sous les noms housing_train.csv et housing_test.csv\n"
   ]
  },
  {
   "cell_type": "markdown",
   "id": "dc5303a7",
   "metadata": {},
   "source": [
    "Pour les analyses subséquentes, veillez à ne travailler qu'avec la donnée d'entraînement."
   ]
  },
  {
   "cell_type": "markdown",
   "id": "d5606238",
   "metadata": {},
   "source": [
    "## Exploration de la Donnée"
   ]
  },
  {
   "cell_type": "markdown",
   "id": "0688eb9c",
   "metadata": {},
   "source": [
    "### Identifier les features et le Label"
   ]
  },
  {
   "cell_type": "markdown",
   "id": "deafe9ee",
   "metadata": {},
   "source": [
    "- Combien de features/ caractéristiques sont présentes dans le jeu de données?\n",
    "- Quels sont leurs types?\n",
    "- Le Label est-il continu ou catégoriel?"
   ]
  },
  {
   "cell_type": "code",
   "execution_count": null,
   "id": "63e3c903",
   "metadata": {},
   "outputs": [],
   "source": []
  },
  {
   "cell_type": "code",
   "execution_count": null,
   "id": "c4261c51",
   "metadata": {},
   "outputs": [],
   "source": []
  },
  {
   "cell_type": "markdown",
   "id": "ab2e2908",
   "metadata": {},
   "source": [
    "### Etude des valeurs dupliquées"
   ]
  },
  {
   "cell_type": "code",
   "execution_count": null,
   "id": "0c379189",
   "metadata": {},
   "outputs": [],
   "source": []
  },
  {
   "cell_type": "markdown",
   "id": "72b9d249",
   "metadata": {},
   "source": [
    "### Etude basique de valeurs aberrantes"
   ]
  },
  {
   "cell_type": "code",
   "execution_count": null,
   "id": "fbdc09c0",
   "metadata": {},
   "outputs": [],
   "source": [
    "## description du jeu de données et interpretation\n",
    "# comparaison des valeurs extrêmes au valeurs centrales\n"
   ]
  },
  {
   "cell_type": "markdown",
   "id": "3b263b2d",
   "metadata": {},
   "source": [
    "### Etude des valeurs manquantes"
   ]
  },
  {
   "cell_type": "code",
   "execution_count": 12,
   "id": "bb9e08f0",
   "metadata": {
    "ExecuteTime": {
     "end_time": "2024-06-18T12:56:44.918012Z",
     "start_time": "2024-06-18T12:56:44.913232Z"
    }
   },
   "outputs": [],
   "source": [
    "# visualiser les valeurs manquantes de quatre façons différentes\n",
    "# et interpréter chaque visualisation\n",
    "# simple tableau\n"
   ]
  },
  {
   "cell_type": "code",
   "execution_count": 13,
   "id": "04ff0ce3",
   "metadata": {
    "ExecuteTime": {
     "end_time": "2024-06-18T12:56:52.795400Z",
     "start_time": "2024-06-18T12:56:52.788719Z"
    }
   },
   "outputs": [],
   "source": [
    "# dendograme\n"
   ]
  },
  {
   "cell_type": "code",
   "execution_count": 14,
   "id": "c8e49175",
   "metadata": {
    "ExecuteTime": {
     "end_time": "2024-06-18T12:57:02.667434Z",
     "start_time": "2024-06-18T12:57:02.659942Z"
    }
   },
   "outputs": [],
   "source": [
    "# heatmap de correlations\n"
   ]
  },
  {
   "cell_type": "code",
   "execution_count": 15,
   "id": "082e3a89",
   "metadata": {
    "ExecuteTime": {
     "end_time": "2024-06-18T12:57:11.466795Z",
     "start_time": "2024-06-18T12:57:11.460894Z"
    }
   },
   "outputs": [],
   "source": [
    "# Matrice\n"
   ]
  },
  {
   "cell_type": "markdown",
   "id": "ec23b7bb",
   "metadata": {},
   "source": [
    "### Distribution des données"
   ]
  },
  {
   "cell_type": "code",
   "execution_count": null,
   "id": "5c209ae3",
   "metadata": {},
   "outputs": [],
   "source": [
    "# Boxplot du Label vs chaque variable categorielle \n",
    "# si le nombre de catégories n'excède 10, sinon des barplots\n"
   ]
  },
  {
   "cell_type": "code",
   "execution_count": null,
   "id": "f89d5ead",
   "metadata": {},
   "outputs": [],
   "source": []
  },
  {
   "cell_type": "code",
   "execution_count": null,
   "id": "c954adca",
   "metadata": {},
   "outputs": [],
   "source": [
    "# subplots des distributions de toutes les variables numériques\n"
   ]
  },
  {
   "cell_type": "code",
   "execution_count": null,
   "id": "fa18a61a",
   "metadata": {},
   "outputs": [],
   "source": []
  },
  {
   "cell_type": "markdown",
   "id": "98dc4e1e",
   "metadata": {},
   "source": [
    "### Matrice de correlations"
   ]
  },
  {
   "cell_type": "code",
   "execution_count": null,
   "id": "13257bce",
   "metadata": {},
   "outputs": [],
   "source": []
  },
  {
   "cell_type": "markdown",
   "id": "613ddc0c",
   "metadata": {},
   "source": [
    "### Résumé de la partie exploratoire - transformations pertinentes?"
   ]
  },
  {
   "cell_type": "code",
   "execution_count": null,
   "id": "c689e01c",
   "metadata": {},
   "outputs": [],
   "source": []
  },
  {
   "cell_type": "code",
   "execution_count": null,
   "id": "41ea6a5a",
   "metadata": {},
   "outputs": [],
   "source": []
  },
  {
   "cell_type": "markdown",
   "id": "bd623fd0",
   "metadata": {},
   "source": [
    "## Préparation des données"
   ]
  },
  {
   "cell_type": "markdown",
   "id": "ca2fb1be",
   "metadata": {},
   "source": [
    "### Gestion des données manquantes"
   ]
  },
  {
   "cell_type": "markdown",
   "id": "20fa6fd5",
   "metadata": {},
   "source": [
    "- Utilisez l'une des trois approches classiques de gestion de données manquantes (suppression, encodage, imputation) à ce jeu de données et justifier votre choix. Discuter égalment de l'impact de votre approche sur les performances du modèle de prédiction du pric médian que vous concevrez plutard."
   ]
  },
  {
   "cell_type": "code",
   "execution_count": null,
   "id": "05ec8814",
   "metadata": {},
   "outputs": [],
   "source": [
    "# gestion des données manquantes\n",
    "housing_train_clean_df = _"
   ]
  },
  {
   "cell_type": "code",
   "execution_count": null,
   "id": "37a1094e",
   "metadata": {},
   "outputs": [],
   "source": []
  },
  {
   "cell_type": "markdown",
   "id": "9043b38a",
   "metadata": {},
   "source": [
    "### Correction ou suppression de valeurs aberrantes"
   ]
  },
  {
   "cell_type": "code",
   "execution_count": null,
   "id": "37e8c389",
   "metadata": {},
   "outputs": [],
   "source": []
  },
  {
   "cell_type": "code",
   "execution_count": null,
   "id": "e102dbad",
   "metadata": {},
   "outputs": [],
   "source": []
  },
  {
   "cell_type": "markdown",
   "id": "3287f162",
   "metadata": {},
   "source": [
    "### Sélection de feature"
   ]
  },
  {
   "cell_type": "code",
   "execution_count": null,
   "id": "890758fd",
   "metadata": {},
   "outputs": [],
   "source": [
    "# supprimez les variables ne fournissant pas d'informations utiles\n",
    "# pour prédire le prix médian des maisons\n"
   ]
  },
  {
   "cell_type": "code",
   "execution_count": null,
   "id": "f466a3b6",
   "metadata": {},
   "outputs": [],
   "source": []
  },
  {
   "cell_type": "markdown",
   "id": "3f4c347a",
   "metadata": {},
   "source": [
    "### Feature engineering"
   ]
  },
  {
   "cell_type": "markdown",
   "id": "fda1fb98",
   "metadata": {},
   "source": [
    "- Discrétisez les variables continues\n",
    "- Décomposez les features si nécessaire : catégorie, date/time,...\n",
    "- Effectuez des transformations prometeuses : aggrégation, log(x), sqrt(x),...\n"
   ]
  },
  {
   "cell_type": "code",
   "execution_count": null,
   "id": "ae646058",
   "metadata": {},
   "outputs": [],
   "source": []
  },
  {
   "cell_type": "code",
   "execution_count": null,
   "id": "c76a136a",
   "metadata": {},
   "outputs": [],
   "source": []
  },
  {
   "cell_type": "markdown",
   "id": "0b6b01f0",
   "metadata": {},
   "source": [
    "### [Feature Scaling and/or Normalization](https://colab.research.google.com/github/ml-course/master/blob/master/notebooks/06%20-%20Data%20Preprocessing.ipynb)"
   ]
  },
  {
   "cell_type": "markdown",
   "id": "9d96b957",
   "metadata": {},
   "source": [
    "- Réduiser à la même échelle entre 0 et 1 toutes les variables numériques"
   ]
  },
  {
   "cell_type": "code",
   "execution_count": null,
   "id": "aa8411cd",
   "metadata": {},
   "outputs": [],
   "source": []
  },
  {
   "cell_type": "code",
   "execution_count": null,
   "id": "03cfd707",
   "metadata": {},
   "outputs": [],
   "source": []
  },
  {
   "cell_type": "markdown",
   "id": "3e54609e",
   "metadata": {},
   "source": [
    "### Encoder les variables catégorielles"
   ]
  },
  {
   "cell_type": "code",
   "execution_count": null,
   "id": "3c7d9f77",
   "metadata": {},
   "outputs": [],
   "source": []
  },
  {
   "cell_type": "markdown",
   "id": "84f7f61b",
   "metadata": {},
   "source": [
    "### Créer un pipeline "
   ]
  },
  {
   "cell_type": "markdown",
   "id": "d61966cf",
   "metadata": {},
   "source": [
    "- Créez un pipeline pour automatiser les transformations effectuer sur l'ensemble d'entraînement et éviter les fuites de données\n",
    "\n",
    "- Séparez la donnée d'entraînement en ensemble d'entraînement et de validation\n",
    "\n",
    "- Appliquer le pipeline créer dessus"
   ]
  },
  {
   "cell_type": "code",
   "execution_count": null,
   "id": "169aa06f",
   "metadata": {},
   "outputs": [],
   "source": []
  }
 ],
 "metadata": {
  "kernelspec": {
   "display_name": "Python 3 (ipykernel)",
   "language": "python",
   "name": "python3"
  },
  "language_info": {
   "codemirror_mode": {
    "name": "ipython",
    "version": 3
   },
   "file_extension": ".py",
   "mimetype": "text/x-python",
   "name": "python",
   "nbconvert_exporter": "python",
   "pygments_lexer": "ipython3",
   "version": "3.11.5"
  },
  "nbTranslate": {
   "displayLangs": [
    "*"
   ],
   "hotkey": "alt-t",
   "langInMainMenu": true,
   "sourceLang": "en",
   "targetLang": "fr",
   "useGoogleTranslate": true
  },
  "toc": {
   "base_numbering": 1,
   "nav_menu": {},
   "number_sections": true,
   "sideBar": true,
   "skip_h1_title": true,
   "title_cell": "Table of Contents",
   "title_sidebar": "Contents",
   "toc_cell": true,
   "toc_position": {},
   "toc_section_display": true,
   "toc_window_display": true
  }
 },
 "nbformat": 4,
 "nbformat_minor": 5
}
